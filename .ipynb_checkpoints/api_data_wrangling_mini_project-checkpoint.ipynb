{
 "cells": [
  {
   "cell_type": "markdown",
   "metadata": {},
   "source": [
    "This exercise will require you to pull some data from the Quandl API. Quandl is currently the most widely used aggregator of financial market data."
   ]
  },
  {
   "cell_type": "markdown",
   "metadata": {},
   "source": [
    "As a first step, you will need to register a free account on the http://www.quandl.com website."
   ]
  },
  {
   "cell_type": "markdown",
   "metadata": {},
   "source": [
    "After you register, you will be provided with a unique API key, that you should store:"
   ]
  },
  {
   "cell_type": "code",
   "execution_count": 296,
   "metadata": {},
   "outputs": [],
   "source": [
    "# Store the API key as a string - according to PEP8, constants are always named in all upper case\n",
    "API_KEY = 'insert API Key'"
   ]
  },
  {
   "cell_type": "markdown",
   "metadata": {},
   "source": [
    "Quandl has a large number of data sources, but, unfortunately, most of them require a Premium subscription. Still, there are also a good number of free datasets."
   ]
  },
  {
   "cell_type": "markdown",
   "metadata": {},
   "source": [
    "For this mini project, we will focus on equities data from the Frankfurt Stock Exhange (FSE), which is available for free. We'll try and analyze the stock prices of a company called Carl Zeiss Meditec, which manufactures tools for eye examinations, as well as medical lasers for laser eye surgery: https://www.zeiss.com/meditec/int/home.html. The company is listed under the stock ticker AFX_X."
   ]
  },
  {
   "cell_type": "markdown",
   "metadata": {},
   "source": [
    "You can find the detailed Quandl API instructions here: https://docs.quandl.com/docs/time-series"
   ]
  },
  {
   "cell_type": "markdown",
   "metadata": {},
   "source": [
    "While there is a dedicated Python package for connecting to the Quandl API, we would prefer that you use the *requests* package, which can be easily downloaded using *pip* or *conda*. You can find the documentation for the package here: http://docs.python-requests.org/en/master/ "
   ]
  },
  {
   "cell_type": "markdown",
   "metadata": {},
   "source": [
    "Finally, apart from the *requests* package, you are encouraged to not use any third party Python packages, such as *pandas*, and instead focus on what's available in the Python Standard Library (the *collections* module might come in handy: https://pymotw.com/3/collections/ ).\n",
    "Also, since you won't have access to DataFrames, you are encouraged to us Python's native data structures - preferably dictionaries, though some questions can also be answered using lists.\n",
    "You can read more on these data structures here: https://docs.python.org/3/tutorial/datastructures.html"
   ]
  },
  {
   "cell_type": "markdown",
   "metadata": {},
   "source": [
    "Keep in mind that the JSON responses you will be getting from the API map almost one-to-one to Python's dictionaries. Unfortunately, they can be very nested, so make sure you read up on indexing dictionaries in the documentation provided above."
   ]
  },
  {
   "cell_type": "code",
   "execution_count": 297,
   "metadata": {},
   "outputs": [],
   "source": [
    "# First, import the relevant modules\n",
    "import pandas as pd\n",
    "import numpy as np\n",
    "import csv\n",
    "import requests\n",
    "import datetime as dt\n",
    "import json"
   ]
  },
  {
   "cell_type": "code",
   "execution_count": 300,
   "metadata": {},
   "outputs": [
    {
     "name": "stdout",
     "output_type": "stream",
     "text": [
      "https://www.quandl.com/api/v3/datasets/FSE/AFX_X.json?api_key=aHkky6yThLzpVySAyteL\n",
      "Response was grabbed!\n"
     ]
    }
   ],
   "source": [
    "# Now, call the Quandl API and pull out a small sample of the data (only one day) to get a glimpse\n",
    "# into the JSON structure that will be returned\n",
    "DATABASE_CODE = 'FSE'\n",
    "TICKER = 'AFX_X'\n",
    "url = 'https://www.quandl.com/api/v3/datasets/' + DATABASE_CODE + '/'+ TICKER + '.json?api_key='+ API_KEY\n",
    "print(url)\n",
    "start = dt.datetime(2017,1,1)\n",
    "end = dt.datetime(2017,12,31)\n",
    "params = dict(\n",
    "    start_date = start,\n",
    "    end_date = end\n",
    ")\n",
    "response = requests.get(url, params).json()\n",
    "datadump = json.dumps(response, indent=2, sort_keys=True)\n",
    "if response:\n",
    "    print('Response was grabbed!')\n",
    "#print(response)"
   ]
  },
  {
   "cell_type": "code",
   "execution_count": 301,
   "metadata": {},
   "outputs": [
    {
     "name": "stdout",
     "output_type": "stream",
     "text": [
      "          Date   Open   High    Low  Close  Change  Traded Volume   Turnover  \\\n",
      "556 2017-12-29  51.76  51.94  51.45  51.76     NaN        34640.0  1792304.0   \n",
      "557 2017-12-28  51.65  51.82  51.43  51.60     NaN        40660.0  2099024.0   \n",
      "558 2017-12-27  51.45  51.89  50.76  51.82     NaN        57452.0  2957018.0   \n",
      "559 2017-12-22  51.05  51.50  50.92  51.32     NaN        71165.0  3641949.0   \n",
      "560 2017-12-21  51.16  51.52  50.90  51.40     NaN       120649.0  6179433.0   \n",
      "..         ...    ...    ...    ...    ...     ...            ...        ...   \n",
      "806 2017-01-06  34.91  35.21  34.91  35.04     NaN        27507.0   964046.0   \n",
      "807 2017-01-05  35.02  35.20  34.73  35.06     NaN        48412.0  1692326.0   \n",
      "808 2017-01-04  35.48  35.51  34.75  35.19     NaN        54408.0  1906810.0   \n",
      "809 2017-01-03  35.90  35.93  35.34  35.48     NaN        70618.0  2515473.0   \n",
      "810 2017-01-02  34.99  35.94  34.99  35.80     NaN        44700.0  1590561.0   \n",
      "\n",
      "    Last Price of the Day Daily Traded Units  Daily Turnover  \n",
      "556                  None               None             NaN  \n",
      "557                  None               None             NaN  \n",
      "558                  None               None             NaN  \n",
      "559                  None               None             NaN  \n",
      "560                  None               None             NaN  \n",
      "..                    ...                ...             ...  \n",
      "806                  None               None             NaN  \n",
      "807                  None               None             NaN  \n",
      "808                  None               None             NaN  \n",
      "809                  None               None             NaN  \n",
      "810                  None               None             NaN  \n",
      "\n",
      "[255 rows x 11 columns]\n"
     ]
    }
   ],
   "source": [
    "header = data['dataset']['column_names']\n",
    "df = pd.DataFrame(data['dataset']['data'], columns = header)\n",
    "df.Date = pd.to_datetime(df.Date)\n",
    "\n",
    "#Grabbing Indexes\n",
    "index2017 = []\n",
    "count = 0\n",
    "for i in df.Date:\n",
    "    if (i > start) & (i < end):\n",
    "        index2017.append(count)\n",
    "        #print(i)\n",
    "    count += 1\n",
    "df = df.iloc[index2017]\n",
    "print(df)"
   ]
  },
  {
   "cell_type": "code",
   "execution_count": 302,
   "metadata": {},
   "outputs": [
    {
     "data": {
      "text/plain": [
       "\"\\n#Read Only\\nfrom urllib.request import urlopen\\nDATABASE_CODE = 'FSE'\\nTICKER = 'AFX_X'\\nurl = 'https://www.quandl.com/api/v3/datasets/' + DATABASE_CODE + '/'+ TICKER + '.json?api_key='+ API_KEY\\nwith urlopen(url) as response2:\\n    source = response2.read()\\nSample of data ['2020-03-31', 92.0, 92.65, 88.15, 88.35, None, 311491.0, 27892906.55, None, None, None]\\ndata = json.loads(source)\\nprint(data['dataset']['column_names'])\\nyear = '2019'\\nfor item in data['dataset']['data']:\\n    if item[0].find(year) >= 0:\\n        date = item[0]\\n        stockOpen = item[1]\\n        stockHigh = item[2]\\n        stockLow = item[3]\\n        stockClose = item[4]\\n        stockTradedVolume = item[6]\\n\""
      ]
     },
     "execution_count": 302,
     "metadata": {},
     "output_type": "execute_result"
    }
   ],
   "source": [
    "\"\"\"\n",
    "#Read Only\n",
    "from urllib.request import urlopen\n",
    "DATABASE_CODE = 'FSE'\n",
    "TICKER = 'AFX_X'\n",
    "url = 'https://www.quandl.com/api/v3/datasets/' + DATABASE_CODE + '/'+ TICKER + '.json?api_key='+ API_KEY\n",
    "with urlopen(url) as response2:\n",
    "    source = response2.read()\n",
    "Sample of data ['2020-03-31', 92.0, 92.65, 88.15, 88.35, None, 311491.0, 27892906.55, None, None, None]\n",
    "data = json.loads(source)\n",
    "print(data['dataset']['column_names'])\n",
    "year = '2019'\n",
    "for item in data['dataset']['data']:\n",
    "    if item[0].find(year) >= 0:\n",
    "        date = item[0]\n",
    "        stockOpen = item[1]\n",
    "        stockHigh = item[2]\n",
    "        stockLow = item[3]\n",
    "        stockClose = item[4]\n",
    "        stockTradedVolume = item[6]\n",
    "\"\"\""
   ]
  },
  {
   "cell_type": "markdown",
   "metadata": {},
   "source": [
    "These are your tasks for this mini project:\n",
    "\n",
    "1. Collect data from the Franfurt Stock Exchange, for the ticker AFX_X, for the whole year 2017 (keep in mind that the date format is YYYY-MM-DD).\n",
    "2. Convert the returned JSON object into a Python dictionary.\n",
    "3. Calculate what the highest and lowest opening prices were for the stock in this period.\n",
    "4. What was the largest change in any one day (based on High and Low price)?\n",
    "5. What was the largest change between any two days (based on Closing Price)?\n",
    "6. What was the average daily trading volume during this year?\n",
    "7. (Optional) What was the median trading volume during this year. (Note: you may need to implement your own function for calculating the median.)"
   ]
  },
  {
   "cell_type": "code",
   "execution_count": 303,
   "metadata": {},
   "outputs": [
    {
     "name": "stdout",
     "output_type": "stream",
     "text": [
      "Answer #3: The Highest Price for this stock was 53.54 and the Lowest Price for this stock was 33.62.\n",
      "Answer #4: The Largest Change in one day based on the highs and lows is 2.8100000000000023\n",
      "Answer #5: The Largest Change between two days based on the highs and lows is 3.75\n",
      "Answer #6: The Mean for 2017 Daily Trading Volume: 89124.33725490196\n",
      "Answer #7: The Median for 2017 Trading Volume: 76286.0\n"
     ]
    }
   ],
   "source": [
    "print(\"Answer #3: The Highest Price for this stock was {} and the Lowest Price for this stock was {}.\".format(\n",
    "df.High.max(), df.Low.min()))\n",
    "\n",
    "#Answer 4\n",
    "df['Change'] = df.High - df.Low\n",
    "print(\"Answer #4: The Largest Change in one day based on the highs and lows is {}\".format(df['Change'].max()))\n",
    "\n",
    "#Answer 5\n",
    "dayClose = []\n",
    "dayComparison = 0\n",
    "dayBefore = 0\n",
    "dayAfter = 0 \n",
    "count = 0\n",
    "for i in df.Close:\n",
    "    dayClose.append(i)\n",
    "for day in dayClose:\n",
    "    count += 1\n",
    "    if count % 2 == 0:\n",
    "        dayAfter = day\n",
    "    elif count % 3 == 0:\n",
    "        dayBefore = day\n",
    "    elif count == 1:\n",
    "        dayBefore = day\n",
    "    if dayComparison < (dayAfter - dayBefore):\n",
    "        dayComparison = (dayAfter - dayBefore)\n",
    "    \n",
    "print(\"Answer #5: The Largest Change between two days based on the highs and lows is {}\".format(dayComparison\n",
    "))\n",
    "\n",
    "print(\"Answer #6: The Mean for 2017 Daily Trading Volume: {}\".format(df['Traded Volume'].mean()))\n",
    "print(\"Answer #7: The Median for 2017 Trading Volume: {}\".format(df['Traded Volume'].median()))"
   ]
  }
 ],
 "metadata": {
  "kernelspec": {
   "display_name": "Python 3",
   "language": "python",
   "name": "python3"
  },
  "language_info": {
   "codemirror_mode": {
    "name": "ipython",
    "version": 3
   },
   "file_extension": ".py",
   "mimetype": "text/x-python",
   "name": "python",
   "nbconvert_exporter": "python",
   "pygments_lexer": "ipython3",
   "version": "3.7.4"
  }
 },
 "nbformat": 4,
 "nbformat_minor": 4
}
